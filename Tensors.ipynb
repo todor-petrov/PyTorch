{
  "nbformat": 4,
  "nbformat_minor": 0,
  "metadata": {
    "colab": {
      "provenance": [],
      "gpuType": "T4",
      "authorship_tag": "ABX9TyNtU3GM21Vzd6PU7gcVhns5",
      "include_colab_link": true
    },
    "kernelspec": {
      "name": "python3",
      "display_name": "Python 3"
    },
    "language_info": {
      "name": "python"
    },
    "accelerator": "GPU"
  },
  "cells": [
    {
      "cell_type": "markdown",
      "metadata": {
        "id": "view-in-github",
        "colab_type": "text"
      },
      "source": [
        "<a href=\"https://colab.research.google.com/github/todor-petrov/Pythorch/blob/main/Tensors.ipynb\" target=\"_parent\"><img src=\"https://colab.research.google.com/assets/colab-badge.svg\" alt=\"Open In Colab\"/></a>"
      ]
    },
    {
      "cell_type": "code",
      "source": [
        "import torch\n",
        "import numpy as np"
      ],
      "metadata": {
        "id": "IT3Kr8gG9Lgt"
      },
      "execution_count": 5,
      "outputs": []
    },
    {
      "cell_type": "markdown",
      "source": [
        "Lists"
      ],
      "metadata": {
        "id": "cgfCuJhO-voR"
      }
    },
    {
      "cell_type": "code",
      "source": [
        "my_list = [[1, 2, 3, 4, 5], [6, 7, 8, 9, 10]]\n",
        "my_list"
      ],
      "metadata": {
        "colab": {
          "base_uri": "https://localhost:8080/"
        },
        "id": "pDOCx50--yOw",
        "outputId": "d6b87ee3-941d-46bb-cc9b-c19e73ea9062"
      },
      "execution_count": 8,
      "outputs": [
        {
          "output_type": "execute_result",
          "data": {
            "text/plain": [
              "[[1, 2, 3, 4, 5], [6, 7, 8, 9, 10]]"
            ]
          },
          "metadata": {},
          "execution_count": 8
        }
      ]
    },
    {
      "cell_type": "markdown",
      "source": [
        "Nympy"
      ],
      "metadata": {
        "id": "_a3nKNOTADpZ"
      }
    },
    {
      "cell_type": "code",
      "source": [
        "np1 = np.random.rand(3, 4)\n",
        "np1"
      ],
      "metadata": {
        "colab": {
          "base_uri": "https://localhost:8080/"
        },
        "id": "Q-ouLlvpAJAq",
        "outputId": "cde67dae-4f8d-4152-d4d4-69f560eeaf61"
      },
      "execution_count": 9,
      "outputs": [
        {
          "output_type": "execute_result",
          "data": {
            "text/plain": [
              "array([[0.9994125 , 0.21721666, 0.83626529, 0.75673768],\n",
              "       [0.0237854 , 0.28552479, 0.56322587, 0.49215376],\n",
              "       [0.12132981, 0.98533712, 0.9651761 , 0.671072  ]])"
            ]
          },
          "metadata": {},
          "execution_count": 9
        }
      ]
    },
    {
      "cell_type": "code",
      "source": [
        "np1.dtype"
      ],
      "metadata": {
        "colab": {
          "base_uri": "https://localhost:8080/"
        },
        "id": "6KRr9VQ6Aywo",
        "outputId": "1af2ef8e-33a0-4b0d-e94a-2adc4bc0d03b"
      },
      "execution_count": 10,
      "outputs": [
        {
          "output_type": "execute_result",
          "data": {
            "text/plain": [
              "dtype('float64')"
            ]
          },
          "metadata": {},
          "execution_count": 10
        }
      ]
    },
    {
      "cell_type": "markdown",
      "source": [
        "Tensor"
      ],
      "metadata": {
        "id": "BtJ89lJaBB-m"
      }
    },
    {
      "cell_type": "code",
      "source": [
        "tensor_2d = torch.randn(3, 4)\n",
        "tensor_2d\n",
        "tensor_2d.dtype"
      ],
      "metadata": {
        "colab": {
          "base_uri": "https://localhost:8080/"
        },
        "id": "oEVW7IucBE3n",
        "outputId": "8e20ead8-ce54-4a95-dfb5-1a53fcb4fcdc"
      },
      "execution_count": 17,
      "outputs": [
        {
          "output_type": "execute_result",
          "data": {
            "text/plain": [
              "torch.float32"
            ]
          },
          "metadata": {},
          "execution_count": 17
        }
      ]
    },
    {
      "cell_type": "code",
      "source": [
        "tensor_3d = torch.zeros(2, 3, 4)\n",
        "tensor_3d"
      ],
      "metadata": {
        "colab": {
          "base_uri": "https://localhost:8080/"
        },
        "id": "qjT-mmflBsA8",
        "outputId": "62eea529-b29d-492c-a1cf-a365c765ad70"
      },
      "execution_count": 14,
      "outputs": [
        {
          "output_type": "execute_result",
          "data": {
            "text/plain": [
              "tensor([[[0., 0., 0., 0.],\n",
              "         [0., 0., 0., 0.],\n",
              "         [0., 0., 0., 0.]],\n",
              "\n",
              "        [[0., 0., 0., 0.],\n",
              "         [0., 0., 0., 0.],\n",
              "         [0., 0., 0., 0.]]])"
            ]
          },
          "metadata": {},
          "execution_count": 14
        }
      ]
    },
    {
      "cell_type": "code",
      "source": [
        "my_tensor = torch.tensor(np1)\n",
        "my_tensor"
      ],
      "metadata": {
        "colab": {
          "base_uri": "https://localhost:8080/"
        },
        "id": "HZygbDERCPct",
        "outputId": "d3f49a84-68e6-4f73-9146-610b22895271"
      },
      "execution_count": 15,
      "outputs": [
        {
          "output_type": "execute_result",
          "data": {
            "text/plain": [
              "tensor([[0.9994, 0.2172, 0.8363, 0.7567],\n",
              "        [0.0238, 0.2855, 0.5632, 0.4922],\n",
              "        [0.1213, 0.9853, 0.9652, 0.6711]], dtype=torch.float64)"
            ]
          },
          "metadata": {},
          "execution_count": 15
        }
      ]
    }
  ]
}